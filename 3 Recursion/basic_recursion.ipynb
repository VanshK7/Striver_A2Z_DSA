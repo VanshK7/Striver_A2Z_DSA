{
 "cells": [
  {
   "cell_type": "code",
   "execution_count": 1,
   "metadata": {},
   "outputs": [
    {
     "name": "stdout",
     "output_type": "stream",
     "text": [
      "Vansh\n",
      "Vansh\n",
      "Vansh\n",
      "Vansh\n",
      "Vansh\n"
     ]
    }
   ],
   "source": [
    "# Print name n times using recursion\n",
    "def rec_name(i, n):\n",
    "    if i > n:\n",
    "        return\n",
    "    else:\n",
    "        print(\"Vansh\")\n",
    "        rec_name(i + 1, n)\n",
    "    \n",
    "n = int(input(\"Enter the value of n: \"))\n",
    "rec_name(1, n)"
   ]
  },
  {
   "cell_type": "code",
   "execution_count": 2,
   "metadata": {},
   "outputs": [
    {
     "name": "stdout",
     "output_type": "stream",
     "text": [
      "1\n",
      "2\n",
      "3\n",
      "4\n",
      "5\n"
     ]
    }
   ],
   "source": [
    "# Print linearly from 1 to n\n",
    "def linear_1_to_n(i, n):\n",
    "    if i>n:\n",
    "        return\n",
    "    else:\n",
    "        print(f\"{i}\")\n",
    "        linear_1_to_n(i+1, n)\n",
    "        \n",
    "n=int(input(\"Enter a number: \"))\n",
    "linear_1_to_n(1, n)"
   ]
  },
  {
   "cell_type": "code",
   "execution_count": 3,
   "metadata": {},
   "outputs": [
    {
     "name": "stdout",
     "output_type": "stream",
     "text": [
      "5\n",
      "4\n",
      "3\n",
      "2\n",
      "1\n"
     ]
    }
   ],
   "source": [
    "# Print from n to 1\n",
    "def linear_n_to_1(i, n):\n",
    "    if i<1:\n",
    "        return\n",
    "    else:\n",
    "        print(f\"{i}\")\n",
    "        linear_n_to_1(i-1, n)\n",
    "\n",
    "n=int(input(\"Enter a number: \"))\n",
    "linear_n_to_1(n, n)"
   ]
  },
  {
   "cell_type": "code",
   "execution_count": 4,
   "metadata": {},
   "outputs": [
    {
     "name": "stdout",
     "output_type": "stream",
     "text": [
      "1\n",
      "2\n",
      "3\n",
      "4\n",
      "5\n"
     ]
    }
   ],
   "source": [
    "# Print 1 to n without using + (using backtracking)\n",
    "def bt_1_to_n(i, n):\n",
    "    if i<1:\n",
    "        return\n",
    "    else:\n",
    "        bt_1_to_n(i-1, n)           # We make sure the last element is executed first\n",
    "        print(f\"{i}\")\n",
    "        \n",
    "n=int(input(\"Enter a number: \"))\n",
    "bt_1_to_n(n, n)"
   ]
  },
  {
   "cell_type": "code",
   "execution_count": 5,
   "metadata": {},
   "outputs": [
    {
     "name": "stdout",
     "output_type": "stream",
     "text": [
      "5\n",
      "4\n",
      "3\n",
      "2\n",
      "1\n"
     ]
    }
   ],
   "source": [
    "# Print n to 1 without using - (using backtracking)\n",
    "def bt_n_to_1(i, n):\n",
    "    if i>n:\n",
    "        return\n",
    "    else:\n",
    "        bt_n_to_1(i+1, n)\n",
    "        print(f\"{i}\")\n",
    "\n",
    "n=int(input(\"Enter a number: \"))\n",
    "bt_n_to_1(1, n)"
   ]
  },
  {
   "cell_type": "code",
   "execution_count": 14,
   "metadata": {},
   "outputs": [
    {
     "name": "stdout",
     "output_type": "stream",
     "text": [
      "15\n"
     ]
    }
   ],
   "source": [
    "# Print sum of n numbers using recursion (parameterized method)\n",
    "def sum_of_n(n, sum):\n",
    "    if n<1:\n",
    "        print(sum)\n",
    "        return\n",
    "    else:\n",
    "        sum_of_n(n-1, sum+n)\n",
    "        \n",
    "n=int(input(\"Enter a number: \"))\n",
    "sum_of_n(n, 0)"
   ]
  },
  {
   "cell_type": "code",
   "execution_count": 16,
   "metadata": {},
   "outputs": [
    {
     "data": {
      "text/plain": [
       "15"
      ]
     },
     "execution_count": 16,
     "metadata": {},
     "output_type": "execute_result"
    }
   ],
   "source": [
    "# Print sum of n numbers using recursion (functional method)\n",
    "def sum_of_n(n):\n",
    "    if n<1:\n",
    "        return 0\n",
    "    else:\n",
    "        return (n + sum_of_n(n-1))\n",
    "    \n",
    "n=int(input(\"Enter a number: \"))\n",
    "sum_of_n(n)"
   ]
  },
  {
   "cell_type": "code",
   "execution_count": 22,
   "metadata": {},
   "outputs": [
    {
     "name": "stdout",
     "output_type": "stream",
     "text": [
      "6\n"
     ]
    }
   ],
   "source": [
    "# Print factorial of n using recursion (parameterized method)\n",
    "def fact_of_n(n, fact):\n",
    "    if n<2:\n",
    "        print(fact)\n",
    "        return\n",
    "    else:\n",
    "        fact*=n-1\n",
    "        fact_of_n(n-1, fact)\n",
    "        \n",
    "n=int(input(\"Enter a number: \"))\n",
    "fact_of_n(n, n)"
   ]
  },
  {
   "cell_type": "code",
   "execution_count": 34,
   "metadata": {},
   "outputs": [
    {
     "data": {
      "text/plain": [
       "120"
      ]
     },
     "execution_count": 34,
     "metadata": {},
     "output_type": "execute_result"
    }
   ],
   "source": [
    "# Print factorial of n using recursion (functional method)\n",
    "def fact_of_n(n):\n",
    "    if n == 0:\n",
    "        return 1\n",
    "    else:\n",
    "        return n * fact_of_n(n-1)\n",
    "\n",
    "n = int(input(\"Enter a number: \"))\n",
    "fact_of_n(n)\n"
   ]
  },
  {
   "cell_type": "code",
   "execution_count": 9,
   "metadata": {},
   "outputs": [
    {
     "data": {
      "text/plain": [
       "[6, 8, 5, 1, 3, 2]"
      ]
     },
     "execution_count": 9,
     "metadata": {},
     "output_type": "execute_result"
    }
   ],
   "source": [
    "# Reverse an array using recursion (Method 1)\n",
    "def rev_arr(arr, l, r):\n",
    "    if l>r:\n",
    "        return\n",
    "    else:\n",
    "        arr[l], arr[r] = arr[r], arr[l]\n",
    "        rev_arr(arr, l+1, r-1)\n",
    "\n",
    "arr=[2, 3, 1, 5, 8, 6]\n",
    "rev_arr(arr, 0, 5)\n",
    "arr"
   ]
  },
  {
   "cell_type": "code",
   "execution_count": 12,
   "metadata": {},
   "outputs": [
    {
     "data": {
      "text/plain": [
       "[6, 8, 5, 1, 3, 2]"
      ]
     },
     "execution_count": 12,
     "metadata": {},
     "output_type": "execute_result"
    }
   ],
   "source": [
    "# Reverse an array using recursion (Method 2)\n",
    "def rev_arr(arr, i, n):\n",
    "    if i >= n/2:\n",
    "        return\n",
    "    else:\n",
    "        arr[i], arr[n-i] = arr[n-i], arr[i]\n",
    "        rev_arr(arr, i+1, n)\n",
    "\n",
    "arr=[2, 3, 1, 5, 8, 6]\n",
    "rev_arr(arr, 0, 5)\n",
    "arr"
   ]
  },
  {
   "cell_type": "code",
   "execution_count": 1,
   "metadata": {},
   "outputs": [
    {
     "name": "stdout",
     "output_type": "stream",
     "text": [
      "True\n"
     ]
    },
    {
     "data": {
      "text/plain": [
       "True"
      ]
     },
     "execution_count": 1,
     "metadata": {},
     "output_type": "execute_result"
    }
   ],
   "source": [
    "# Check if palindrome (functional)\n",
    "\n",
    "def pal(s, i):\n",
    "    if (i >= len(s)/2):\n",
    "        print(\"True\")\n",
    "        return True\n",
    "    elif (s[i] != s[len(s)-i-1]):\n",
    "        print(\"False\")\n",
    "        return False\n",
    "    else:\n",
    "        pal(s, i+1)\n",
    "        \n",
    "x = input(\"Enter a string: \")\n",
    "pal(x, 0)"
   ]
  },
  {
   "cell_type": "code",
   "execution_count": 11,
   "metadata": {},
   "outputs": [
    {
     "name": "stdout",
     "output_type": "stream",
     "text": [
      "3\n"
     ]
    }
   ],
   "source": [
    "# Fibonacci Sequence\n",
    "def fib(n):\n",
    "    if n <= 1:\n",
    "        return n\n",
    "    last = fib(n-1)\n",
    "    second_last = fib(n-2)\n",
    "    return last + second_last\n",
    "\n",
    "print(fib(4))"
   ]
  },
  {
   "cell_type": "code",
   "execution_count": null,
   "metadata": {},
   "outputs": [],
   "source": []
  }
 ],
 "metadata": {
  "kernelspec": {
   "display_name": "Python 3",
   "language": "python",
   "name": "python3"
  },
  "language_info": {
   "codemirror_mode": {
    "name": "ipython",
    "version": 3
   },
   "file_extension": ".py",
   "mimetype": "text/x-python",
   "name": "python",
   "nbconvert_exporter": "python",
   "pygments_lexer": "ipython3",
   "version": "3.10.4"
  }
 },
 "nbformat": 4,
 "nbformat_minor": 2
}
